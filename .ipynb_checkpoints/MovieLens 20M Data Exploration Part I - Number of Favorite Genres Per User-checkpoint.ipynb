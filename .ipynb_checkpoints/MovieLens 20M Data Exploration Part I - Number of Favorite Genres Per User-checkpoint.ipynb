{
 "cells": [
  {
   "cell_type": "markdown",
   "metadata": {},
   "source": [
    "# Personalized Movie Recommendation Map\n",
    "\n",
    "Most people like to watch different types of movies in different situations. For example, I enjoy crime movies, but before I go to sleep, I prefer to watch documentaries. I would like to creat a movie recommender system that keeps this in mind. Instead of just recommending a list of movies that each user would likely rate highly, I will create a personalized map for each user based on the types of movies they prefer. This map will show movie titles clustered together by similarity. \n",
    "\n",
    "The MovieLens  20M dataset includes 20 million movie ratings (1-5) for 27,000 movies, by 138,000 users. It also includes tag genome data with 12 million relevance scores across 1,100 tags. \n",
    "\n",
    "The data can be found here: https://grouplens.org/datasets/movielens/\n",
    "\n",
    "I found a few examples using collaborative filtering on this dataset. SVD based recommender systems have been demonstrated to work well for this problem. In the simplest verson of an SVD model, a movie rating for a particular user is predicted as the product q'\\*p where q is a vector representing the features of the movie, and p is a vector representing the user's preferences. Once p and q have been optimized, the p vector should give us a ranking for each user of how important each feature that is to him or her. We can use this to create a movie personality map. "
   ]
  },
  {
   "cell_type": "markdown",
   "metadata": {},
   "source": [
    "The premise of this project is based on the fact most users enjoy multiple types of movies. As a proof of concept, I will begin by showing how many movie types users generally like. In the actual model, I will learn the features through an SVD machine learning algorithm, but for a first look, I will examine user preferences by genre. "
   ]
  },
  {
   "cell_type": "code",
   "execution_count": 1,
   "metadata": {
    "collapsed": true
   },
   "outputs": [],
   "source": [
    "import pandas as pd\n",
    "import matplotlib\n",
    "import numpy as np\n",
    "\n",
    "import matplotlib.pyplot as plt\n",
    "%matplotlib inline  \n",
    "\n",
    "import seaborn as sns"
   ]
  },
  {
   "cell_type": "markdown",
   "metadata": {},
   "source": [
    "I'll import the data and look at the first few lines of each dataframe."
   ]
  },
  {
   "cell_type": "code",
   "execution_count": 2,
   "metadata": {},
   "outputs": [],
   "source": [
    "ratings = pd.read_csv('../ml-20m/ratings.csv') #userId,movieId,rating,timestamp\n",
    "movies = pd.read_csv('../ml-20m/movies.csv') #movieId,title,genres"
   ]
  },
  {
   "cell_type": "code",
   "execution_count": 3,
   "metadata": {
    "scrolled": true
   },
   "outputs": [
    {
     "name": "stdout",
     "output_type": "stream",
     "text": [
      "(20000263, 4)\n"
     ]
    },
    {
     "data": {
      "text/html": [
       "<div>\n",
       "<style>\n",
       "    .dataframe thead tr:only-child th {\n",
       "        text-align: right;\n",
       "    }\n",
       "\n",
       "    .dataframe thead th {\n",
       "        text-align: left;\n",
       "    }\n",
       "\n",
       "    .dataframe tbody tr th {\n",
       "        vertical-align: top;\n",
       "    }\n",
       "</style>\n",
       "<table border=\"1\" class=\"dataframe\">\n",
       "  <thead>\n",
       "    <tr style=\"text-align: right;\">\n",
       "      <th></th>\n",
       "      <th>userId</th>\n",
       "      <th>movieId</th>\n",
       "      <th>rating</th>\n",
       "      <th>timestamp</th>\n",
       "    </tr>\n",
       "  </thead>\n",
       "  <tbody>\n",
       "    <tr>\n",
       "      <th>0</th>\n",
       "      <td>1</td>\n",
       "      <td>2</td>\n",
       "      <td>3.5</td>\n",
       "      <td>1112486027</td>\n",
       "    </tr>\n",
       "    <tr>\n",
       "      <th>1</th>\n",
       "      <td>1</td>\n",
       "      <td>29</td>\n",
       "      <td>3.5</td>\n",
       "      <td>1112484676</td>\n",
       "    </tr>\n",
       "    <tr>\n",
       "      <th>2</th>\n",
       "      <td>1</td>\n",
       "      <td>32</td>\n",
       "      <td>3.5</td>\n",
       "      <td>1112484819</td>\n",
       "    </tr>\n",
       "    <tr>\n",
       "      <th>3</th>\n",
       "      <td>1</td>\n",
       "      <td>47</td>\n",
       "      <td>3.5</td>\n",
       "      <td>1112484727</td>\n",
       "    </tr>\n",
       "    <tr>\n",
       "      <th>4</th>\n",
       "      <td>1</td>\n",
       "      <td>50</td>\n",
       "      <td>3.5</td>\n",
       "      <td>1112484580</td>\n",
       "    </tr>\n",
       "  </tbody>\n",
       "</table>\n",
       "</div>"
      ],
      "text/plain": [
       "   userId  movieId  rating   timestamp\n",
       "0       1        2     3.5  1112486027\n",
       "1       1       29     3.5  1112484676\n",
       "2       1       32     3.5  1112484819\n",
       "3       1       47     3.5  1112484727\n",
       "4       1       50     3.5  1112484580"
      ]
     },
     "execution_count": 3,
     "metadata": {},
     "output_type": "execute_result"
    }
   ],
   "source": [
    "print(ratings.shape)\n",
    "ratings.head()"
   ]
  },
  {
   "cell_type": "code",
   "execution_count": 4,
   "metadata": {
    "scrolled": true
   },
   "outputs": [
    {
     "name": "stdout",
     "output_type": "stream",
     "text": [
      "(27278, 3)\n"
     ]
    },
    {
     "data": {
      "text/html": [
       "<div>\n",
       "<style>\n",
       "    .dataframe thead tr:only-child th {\n",
       "        text-align: right;\n",
       "    }\n",
       "\n",
       "    .dataframe thead th {\n",
       "        text-align: left;\n",
       "    }\n",
       "\n",
       "    .dataframe tbody tr th {\n",
       "        vertical-align: top;\n",
       "    }\n",
       "</style>\n",
       "<table border=\"1\" class=\"dataframe\">\n",
       "  <thead>\n",
       "    <tr style=\"text-align: right;\">\n",
       "      <th></th>\n",
       "      <th>movieId</th>\n",
       "      <th>title</th>\n",
       "      <th>genres</th>\n",
       "    </tr>\n",
       "  </thead>\n",
       "  <tbody>\n",
       "    <tr>\n",
       "      <th>0</th>\n",
       "      <td>1</td>\n",
       "      <td>Toy Story (1995)</td>\n",
       "      <td>Adventure|Animation|Children|Comedy|Fantasy</td>\n",
       "    </tr>\n",
       "    <tr>\n",
       "      <th>1</th>\n",
       "      <td>2</td>\n",
       "      <td>Jumanji (1995)</td>\n",
       "      <td>Adventure|Children|Fantasy</td>\n",
       "    </tr>\n",
       "    <tr>\n",
       "      <th>2</th>\n",
       "      <td>3</td>\n",
       "      <td>Grumpier Old Men (1995)</td>\n",
       "      <td>Comedy|Romance</td>\n",
       "    </tr>\n",
       "    <tr>\n",
       "      <th>3</th>\n",
       "      <td>4</td>\n",
       "      <td>Waiting to Exhale (1995)</td>\n",
       "      <td>Comedy|Drama|Romance</td>\n",
       "    </tr>\n",
       "    <tr>\n",
       "      <th>4</th>\n",
       "      <td>5</td>\n",
       "      <td>Father of the Bride Part II (1995)</td>\n",
       "      <td>Comedy</td>\n",
       "    </tr>\n",
       "  </tbody>\n",
       "</table>\n",
       "</div>"
      ],
      "text/plain": [
       "   movieId                               title  \\\n",
       "0        1                    Toy Story (1995)   \n",
       "1        2                      Jumanji (1995)   \n",
       "2        3             Grumpier Old Men (1995)   \n",
       "3        4            Waiting to Exhale (1995)   \n",
       "4        5  Father of the Bride Part II (1995)   \n",
       "\n",
       "                                        genres  \n",
       "0  Adventure|Animation|Children|Comedy|Fantasy  \n",
       "1                   Adventure|Children|Fantasy  \n",
       "2                               Comedy|Romance  \n",
       "3                         Comedy|Drama|Romance  \n",
       "4                                       Comedy  "
      ]
     },
     "execution_count": 4,
     "metadata": {},
     "output_type": "execute_result"
    }
   ],
   "source": [
    "print(movies.shape)\n",
    "movies.head()"
   ]
  },
  {
   "cell_type": "markdown",
   "metadata": {},
   "source": [
    "### Break down user ratings by genre:"
   ]
  },
  {
   "cell_type": "code",
   "execution_count": 5,
   "metadata": {
    "collapsed": true
   },
   "outputs": [],
   "source": [
    "def parse_genres(s):\n",
    "    return set(s.split('|'))"
   ]
  },
  {
   "cell_type": "code",
   "execution_count": 6,
   "metadata": {
    "collapsed": true
   },
   "outputs": [],
   "source": [
    "movies['p_genres'] = movies['genres'].apply(parse_genres)"
   ]
  },
  {
   "cell_type": "code",
   "execution_count": 7,
   "metadata": {
    "scrolled": true
   },
   "outputs": [
    {
     "data": {
      "text/plain": [
       "{'(no genres listed)',\n",
       " 'Action',\n",
       " 'Adventure',\n",
       " 'Animation',\n",
       " 'Children',\n",
       " 'Comedy',\n",
       " 'Crime',\n",
       " 'Documentary',\n",
       " 'Drama',\n",
       " 'Fantasy',\n",
       " 'Film-Noir',\n",
       " 'Horror',\n",
       " 'IMAX',\n",
       " 'Musical',\n",
       " 'Mystery',\n",
       " 'Romance',\n",
       " 'Sci-Fi',\n",
       " 'Thriller',\n",
       " 'War',\n",
       " 'Western'}"
      ]
     },
     "execution_count": 7,
     "metadata": {},
     "output_type": "execute_result"
    }
   ],
   "source": [
    "# Create a set of all the genres for the entire dataset\n",
    "genres = set().union(*list(movies['p_genres']))\n",
    "genres"
   ]
  },
  {
   "cell_type": "markdown",
   "metadata": {},
   "source": [
    "Now, for each person, calculate an average rating for each genre. "
   ]
  },
  {
   "cell_type": "code",
   "execution_count": 8,
   "metadata": {
    "collapsed": true
   },
   "outputs": [],
   "source": [
    "def parse_user_ratings_by_genre(Id):\n",
    "    \n",
    "    r = {g:[] for g in genres}\n",
    "    \n",
    "    for ratings_index in ratings.loc[ratings['userId']==Id].index:\n",
    "        \n",
    "        m = ratings['movieId'].loc[ratings_index]\n",
    "        \n",
    "        if m < 27278:\n",
    "            keys = movies.loc[m-1].p_genres\n",
    "            \n",
    "            for k in keys:\n",
    "                r[k].append(ratings.loc[ratings_index].rating)\n",
    "        \n",
    "    for i in r.keys():\n",
    "        r[i]=np.mean(r[i])\n",
    "\n",
    "    return r"
   ]
  },
  {
   "cell_type": "markdown",
   "metadata": {},
   "source": [
    "I'll look at a few individual users as a sanity check - for each user I am plotting a bar graph of their average rating for each genre. There is a grey horizontal line representing the average rating, and a dashed line showing the cutoff for ratings that are 1 standard deviation above average."
   ]
  },
  {
   "cell_type": "code",
   "execution_count": 9,
   "metadata": {},
   "outputs": [
    {
     "name": "stderr",
     "output_type": "stream",
     "text": [
      "/anaconda/lib/python3.6/site-packages/numpy/core/fromnumeric.py:2889: RuntimeWarning: Mean of empty slice.\n",
      "  out=out, **kwargs)\n",
      "/anaconda/lib/python3.6/site-packages/numpy/core/_methods.py:80: RuntimeWarning: invalid value encountered in double_scalars\n",
      "  ret = ret.dtype.type(ret / rcount)\n"
     ]
    },
    {
     "data": {
      "image/png": "[encoded data removed]",
      "text/plain": [
       "<matplotlib.figure.Figure at 0x1143c9710>"
      ]
     },
     "metadata": {},
     "output_type": "display_data"
    },
    {
     "name": "stdout",
     "output_type": "stream",
     "text": [
      "{'Thriller': 4.2352941176470589, 'Film-Noir': 5.0, 'Drama': 4.4074074074074074, 'Romance': 4.2000000000000002, 'Children': 4.4285714285714288, 'Sci-Fi': 4.75, 'Mystery': 4.0, 'Comedy': 4.0, 'Animation': 5.0, 'Musical': 5.0, 'Fantasy': 4.125, 'IMAX': 5.0, 'Horror': 4.5, 'War': 5.0, 'Crime': 4.416666666666667, 'Western': 4.333333333333333, 'Action': 4.5, '(no genres listed)': nan, 'Adventure': 4.2857142857142856, 'Documentary': 5.0}\n",
      "\n",
      "Average Rating: 4.5358940652284305\n",
      "Standard Deviation: 0.3578466981593126\n"
     ]
    }
   ],
   "source": [
    "D = parse_user_ratings_by_genre(5)\n",
    "\n",
    "\n",
    "fig = plt.figure()\n",
    "ax = fig.add_subplot(111)\n",
    "plt.bar(range(len(D)), D.values(), align='center')\n",
    "plt.xticks(range(len(D)), list(D.keys()), rotation = 'vertical')\n",
    "ax.axhline(np.nanmean(list(D.values())), color=\"gray\")\n",
    "ax.axhline(np.nanmean(list(D.values())+np.nanstd(list(D.values()))), color=\"gray\", linestyle = 'dashed')\n",
    "plt.show()\n",
    "print(D)\n",
    "print()\n",
    "print(\"Average Rating: {}\".format(np.nanmean(list(D.values()))))\n",
    "print(\"Standard Deviation: {}\".format(np.nanstd(list(D.values()))))"
   ]
  },
  {
   "cell_type": "code",
   "execution_count": 10,
   "metadata": {},
   "outputs": [
    {
     "name": "stderr",
     "output_type": "stream",
     "text": [
      "/anaconda/lib/python3.6/site-packages/numpy/core/fromnumeric.py:2889: RuntimeWarning: Mean of empty slice.\n",
      "  out=out, **kwargs)\n",
      "/anaconda/lib/python3.6/site-packages/numpy/core/_methods.py:80: RuntimeWarning: invalid value encountered in double_scalars\n",
      "  ret = ret.dtype.type(ret / rcount)\n"
     ]
    },
    {
     "data": {
      "image/png": "[encoded data removed]",
      "text/plain": [
       "<matplotlib.figure.Figure at 0x115b1bac8>"
      ]
     },
     "metadata": {},
     "output_type": "display_data"
    },
    {
     "name": "stdout",
     "output_type": "stream",
     "text": [
      "{'Thriller': 3.7692307692307692, 'Film-Noir': 4.25, 'Drama': 3.640625, 'Romance': 3.4642857142857144, 'Children': 3.2000000000000002, 'Sci-Fi': 3.4166666666666665, 'Mystery': 3.75, 'Comedy': 3.3809523809523809, 'Animation': 3.3333333333333335, 'Musical': 3.3333333333333335, 'Fantasy': 2.875, 'IMAX': 3.0, 'Horror': 3.75, 'War': 3.75, 'Crime': 3.8333333333333335, 'Western': 4.5, 'Action': 3.0714285714285716, '(no genres listed)': nan, 'Adventure': 3.2999999999999998, 'Documentary': 4.0}\n",
      "\n",
      "Average Rating: 3.5588520580296894\n",
      "Standard Deviation: 0.40845087922650386\n"
     ]
    }
   ],
   "source": [
    "D = parse_user_ratings_by_genre(558)\n",
    "\n",
    "\n",
    "fig = plt.figure()\n",
    "ax = fig.add_subplot(111)\n",
    "\n",
    "plt.bar(range(len(D)), D.values(), align='center')\n",
    "plt.xticks(range(len(D)), list(D.keys()), rotation = 'vertical')\n",
    "\n",
    "ax.axhline(np.nanmean(list(D.values())), color=\"gray\")\n",
    "ax.axhline(np.nanmean(list(D.values())+np.nanstd(list(D.values()))), color=\"gray\", linestyle = 'dashed')\n",
    "\n",
    "plt.show()\n",
    "print(D)\n",
    "print()\n",
    "print(\"Average Rating: {}\".format(np.nanmean(list(D.values()))))\n",
    "print(\"Standard Deviation: {}\".format(np.nanstd(list(D.values()))))"
   ]
  },
  {
   "cell_type": "code",
   "execution_count": 11,
   "metadata": {},
   "outputs": [
    {
     "name": "stderr",
     "output_type": "stream",
     "text": [
      "/anaconda/lib/python3.6/site-packages/numpy/core/fromnumeric.py:2889: RuntimeWarning: Mean of empty slice.\n",
      "  out=out, **kwargs)\n",
      "/anaconda/lib/python3.6/site-packages/numpy/core/_methods.py:80: RuntimeWarning: invalid value encountered in double_scalars\n",
      "  ret = ret.dtype.type(ret / rcount)\n"
     ]
    },
    {
     "data": {
      "image/png": "[encoded data removed]",
      "text/plain": [
       "<matplotlib.figure.Figure at 0x1160b2cc0>"
      ]
     },
     "metadata": {},
     "output_type": "display_data"
    },
    {
     "name": "stdout",
     "output_type": "stream",
     "text": [
      "{'Thriller': 3.6420454545454546, 'Film-Noir': 4.0625, 'Drama': 3.6945812807881775, 'Romance': 3.7027027027027026, 'Children': 3.4814814814814814, 'Sci-Fi': 3.4324324324324325, 'Mystery': 3.8076923076923075, 'Comedy': 3.6401273885350318, 'Animation': 2.9375, 'Musical': 3.4615384615384617, 'Fantasy': 3.28125, 'IMAX': nan, 'Horror': 3.5697674418604652, 'War': 4.0357142857142856, 'Crime': 3.7407407407407409, 'Western': 3.8888888888888888, 'Action': 3.5785714285714287, '(no genres listed)': nan, 'Adventure': 3.5972222222222223, 'Documentary': 3.8055555555555554}\n",
      "\n",
      "Average Rating: 3.63112844851498\n",
      "Standard Deviation: 0.25830890296406356\n"
     ]
    }
   ],
   "source": [
    "D = parse_user_ratings_by_genre(10059)\n",
    "\n",
    "fig = plt.figure()\n",
    "ax = fig.add_subplot(111)\n",
    "\n",
    "plt.bar(range(len(D)), D.values(), align='center')\n",
    "plt.xticks(range(len(D)), list(D.keys()), rotation = 'vertical')\n",
    "\n",
    "ax.axhline(np.nanmean(list(D.values())), color=\"gray\")\n",
    "ax.axhline(np.nanmean(list(D.values())+np.nanstd(list(D.values()))), color=\"gray\", linestyle = 'dashed')\n",
    "\n",
    "plt.show()\n",
    "print(D)\n",
    "print()\n",
    "print(\"Average Rating: {}\".format(np.nanmean(list(D.values()))))\n",
    "print(\"Standard Deviation: {}\".format(np.nanstd(list(D.values()))))"
   ]
  },
  {
   "cell_type": "markdown",
   "metadata": {},
   "source": [
    "## Count how many favorite genres for each user:\n",
    "Now I will calculate how many \"favorite\" genres each user has, defining \"favorite\" as genres with an average rating greater than 1 standard deviation above the mean. "
   ]
  },
  {
   "cell_type": "code",
   "execution_count": 12,
   "metadata": {
    "collapsed": true
   },
   "outputs": [],
   "source": [
    "def count_favorites(user):\n",
    "    ratings_dict = parse_user_ratings_by_genre(user)\n",
    "    thresh = np.nanmean(list(ratings_dict.values())) + np.nanstd(list(ratings_dict.values()))\n",
    "    return len([ratings_dict[i] for i in ratings_dict if ratings_dict[i] >= thresh])\n",
    "    print(user)"
   ]
  },
  {
   "cell_type": "code",
   "execution_count": null,
   "metadata": {
    "collapsed": true
   },
   "outputs": [],
   "source": [
    "from time import time\n",
    "\n",
    "# This code takes a long time to run because of the number of users, I'll start out using a random sample of 1000 users. \n",
    "\n",
    "num_users = len(ratings.userId.unique())\n",
    "num_users_sample = 1000\n",
    "\n",
    "userID_sample = np.random.randint(1,num_users,num_users_sample)\n",
    "# ratings_sample = ratings.loc[ratings.userId.isin(userID_sample)]\n",
    "\n",
    "#num_favorites_by_user = pd.DataFrame(ratings['userId'].unique(),columns=['userId'])\n",
    "num_favorites_by_user = pd.DataFrame(userID_sample,columns=['userId'])"
   ]
  },
  {
   "cell_type": "code",
   "execution_count": null,
   "metadata": {},
   "outputs": [
    {
     "name": "stderr",
     "output_type": "stream",
     "text": [
      "/anaconda/lib/python3.6/site-packages/numpy/core/fromnumeric.py:2889: RuntimeWarning: Mean of empty slice.\n",
      "  out=out, **kwargs)\n"
     ]
    }
   ],
   "source": [
    "t0 = time()\n",
    "num_favorites_by_user['numFavorites']=num_favorites_by_user['userId'].apply(count_favorites)\n",
    "print(\"calculation time: {}\".format(round(time()-t0, 3), \"s\"))"
   ]
  },
  {
   "cell_type": "code",
   "execution_count": null,
   "metadata": {},
   "outputs": [],
   "source": [
    "num_favorites_by_user['numFavorites'].hist(bins=12,edgecolor='black', linewidth=1)\n",
    "plt.xlabel('Number of Favorite Genres')\n",
    "plt.ylabel('Number of Users')\n",
    "plt.title('Number of Favorite Genres for Each User')"
   ]
  },
  {
   "cell_type": "markdown",
   "metadata": {},
   "source": [
    "It looks like most users have 2 or 3 favorite genres. This seems pretty reasonable, and matches with what I would expect. "
   ]
  }
 ],
 "metadata": {
  "kernelspec": {
   "display_name": "Python 3",
   "language": "python",
   "name": "python3"
  },
  "language_info": {
   "codemirror_mode": {
    "name": "ipython",
    "version": 3
   },
   "file_extension": ".py",
   "mimetype": "text/x-python",
   "name": "python",
   "nbconvert_exporter": "python",
   "pygments_lexer": "ipython3",
   "version": "3.6.1"
  }
 },
 "nbformat": 4,
 "nbformat_minor": 2
}
