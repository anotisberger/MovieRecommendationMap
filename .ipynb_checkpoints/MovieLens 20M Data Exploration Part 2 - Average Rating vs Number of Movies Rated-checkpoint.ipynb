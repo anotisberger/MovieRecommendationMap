{
 "cells": [
  {
   "cell_type": "markdown",
   "metadata": {},
   "source": [
    "# Personalized Movie Recommendation Map\n",
    "\n",
    "In part 1 of my data exploration, I showed that most users have 2 or 3 favorite genres. Now I'd like to look at a different aspect of the data - how does the number of movies rated in each genre correspond to a user's average rating of that genre? \n",
    "\n",
    "I would expect that users tend to rate more movies from genres that they like. For example, if one person rated 18 comedies and 2 horror movies, I would expect that he watched more comedies than horror movies, because he tends to like comedies more than horror movies. \n",
    "\n",
    "It is a bit tricky to compare average ratings between users, because one user may tend to give higher ratings than another use. I'll handle this by standardizing each user's ratings:\n",
    "\n",
    "$$ rating_{standardized} = \\frac{rating-mean(rating)}{\\sigma}$$\n",
    "\n",
    "I will also have to standardize the number of ratings given to each genre, because some users rate many more movies than others. The easiest way to do this will be to look at what percent of each user's ratings were given to a particular genre. "
   ]
  },
  {
   "cell_type": "code",
   "execution_count": null,
   "metadata": {
    "collapsed": true
   },
   "outputs": [],
   "source": [
    "import pandas as pd\n",
    "import matplotlib\n",
    "import numpy as np\n",
    "\n",
    "import matplotlib.pyplot as plt\n",
    "%matplotlib inline  \n",
    "\n",
    "import seaborn as sns"
   ]
  },
  {
   "cell_type": "code",
   "execution_count": null,
   "metadata": {
    "collapsed": true
   },
   "outputs": [],
   "source": [
    "ratings = pd.read_csv('../ml-20m/ratings.csv') #userId,movieId,rating,timestamp\n",
    "movies = pd.read_csv('../ml-20m/movies.csv') #movieId,title,genres"
   ]
  },
  {
   "cell_type": "code",
   "execution_count": null,
   "metadata": {
    "collapsed": true
   },
   "outputs": [],
   "source": [
    "def parse_genres(s):\n",
    "    return set(s.split('|'))"
   ]
  },
  {
   "cell_type": "code",
   "execution_count": null,
   "metadata": {
    "collapsed": true
   },
   "outputs": [],
   "source": [
    "movies['p_genres'] = movies['genres'].apply(parse_genres)"
   ]
  },
  {
   "cell_type": "code",
   "execution_count": null,
   "metadata": {
    "collapsed": true
   },
   "outputs": [],
   "source": [
    "# Create a set of all the genres for the entire dataset\n",
    "genres = set().union(*list(movies['p_genres']))"
   ]
  },
  {
   "cell_type": "code",
   "execution_count": null,
   "metadata": {},
   "outputs": [],
   "source": [
    "len(ratings.userId.unique())"
   ]
  },
  {
   "cell_type": "markdown",
   "metadata": {},
   "source": [
    "The most efficient way to do this will be to create two matrices, rating_count, and rating_by_genre. Both matrices will be of the size nxg (n= number of users, and g= number of genres), and element (i,j) will represent the number of ratings, or the average rating user i gave to movies from genre j. \n",
    "\n",
    "This is a very large dataset, with 138493 users. I will only need to use a subset of the data to determine the general trend of the dataset, so I will randomly choose a set of users to look at for this plot. "
   ]
  },
  {
   "cell_type": "code",
   "execution_count": null,
   "metadata": {
    "collapsed": true
   },
   "outputs": [],
   "source": [
    "num_genres = len(genres)\n",
    "genre_index = dict(zip(genres,range(num_genres))) # Assign integers to genres so each matrix row\n",
    "                                                  # will correspond to individual genres\n",
    "num_users = len(ratings.userId.unique())\n",
    "num_movies = len(ratings.movieId.unique())\n",
    "max_user_ratings = max(ratings.userId.value_counts())\n",
    "\n",
    "num_users_sample = 1000"
   ]
  },
  {
   "cell_type": "code",
   "execution_count": null,
   "metadata": {
    "collapsed": true,
    "scrolled": true
   },
   "outputs": [],
   "source": [
    "userID_sample = np.random.randint(1,num_users,num_users_sample)\n",
    "user_index = dict(zip(userID_sample,range(num_users_sample)))\n",
    "\n",
    "ratings_sample = ratings.loc[ratings.userId.isin(userID_sample)]"
   ]
  },
  {
   "cell_type": "code",
   "execution_count": null,
   "metadata": {
    "collapsed": true
   },
   "outputs": [],
   "source": [
    "rating_by_genre = np.empty([num_users_sample,num_genres])\n",
    "rating_count = np.empty([num_users_sample,num_genres])"
   ]
  },
  {
   "cell_type": "code",
   "execution_count": null,
   "metadata": {
    "collapsed": true
   },
   "outputs": [],
   "source": [
    "def parse_user_ratings_by_genre(Id):\n",
    "    \n",
    "    rating_dict = {g:[] for g in genres}\n",
    "    all_ratings = []\n",
    "    \n",
    "    for ratings_index in ratings_sample.loc[ratings_sample['userId']==Id].index:\n",
    "        \n",
    "        all_ratings.append(ratings_sample.loc[ratings_index,'rating'])\n",
    "        \n",
    "        m = ratings['movieId'].loc[ratings_index]\n",
    "        \n",
    "        if m < 27278:\n",
    "            g_list = movies.loc[m-1].p_genres\n",
    "            \n",
    "            for g in g_list:\n",
    "                rating_dict[g].append(ratings_sample.loc[ratings_index].rating)\n",
    "        \n",
    "    rating_mean = np.mean(all_ratings)\n",
    "    rating_std = np.std(all_ratings)\n",
    "    num_ratings = len(all_ratings)\n",
    "    \n",
    "    r = np.full((num_genres),np.nan)\n",
    "    c = np.full((num_genres),np.nan)\n",
    "    \n",
    "    for g in genres:\n",
    "        #r[genre_index[g]]=np.mean(np.divide(np.subtract(rating_dict[g],np.mean(all_ratings)),np.std(all_ratings)))\n",
    "        r[genre_index[g]]=np.mean(rating_dict[g])\n",
    "        c[genre_index[g]]= len(rating_dict[g])/num_ratings\n",
    "        #c[genre_index[g]]= len(rating_dict[g])\n",
    "    \n",
    "    return r,c"
   ]
  },
  {
   "cell_type": "code",
   "execution_count": null,
   "metadata": {},
   "outputs": [],
   "source": [
    "from time import time\n",
    "t0 = time()\n",
    "for usr,ind in user_index.items():\n",
    "    rating_by_genre[ind,:],rating_count[ind,:]=parse_user_ratings_by_genre(usr)\n",
    "print(\"time: {}\".format(round(time()-t0, 3)))"
   ]
  },
  {
   "cell_type": "code",
   "execution_count": null,
   "metadata": {},
   "outputs": [],
   "source": [
    "plt.scatter(rating_count.reshape(num_users_sample*num_genres),\n",
    "            rating_by_genre.reshape(num_users_sample*num_genres))\n",
    "\n",
    "plt.xlabel('% of Movies Watched in this Genre')\n",
    "plt.ylabel('Average Rating for Genre')\n",
    "plt.title('Average Rating given to Genre vs. % of Movies Watched in Genre')"
   ]
  },
  {
   "cell_type": "markdown",
   "metadata": {},
   "source": [
    "This shows what I expected. Most of the lower ratings were given in genres that people watched more rarely, and users tend to give higher ratings to genres they watch more often. "
   ]
  }
 ],
 "metadata": {
  "kernelspec": {
   "display_name": "Python 3",
   "language": "python",
   "name": "python3"
  },
  "language_info": {
   "codemirror_mode": {
    "name": "ipython",
    "version": 3
   },
   "file_extension": ".py",
   "mimetype": "text/x-python",
   "name": "python",
   "nbconvert_exporter": "python",
   "pygments_lexer": "ipython3",
   "version": "3.6.1"
  }
 },
 "nbformat": 4,
 "nbformat_minor": 2
}
